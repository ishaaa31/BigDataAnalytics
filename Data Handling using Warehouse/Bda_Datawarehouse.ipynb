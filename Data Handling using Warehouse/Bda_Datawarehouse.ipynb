{
  "nbformat": 4,
  "nbformat_minor": 0,
  "metadata": {
    "colab": {
      "provenance": []
    },
    "kernelspec": {
      "name": "python3",
      "display_name": "Python 3"
    },
    "language_info": {
      "name": "python"
    }
  },
  "cells": [
    {
      "cell_type": "code",
      "source": [
        "!pip install fpdf"
      ],
      "metadata": {
        "colab": {
          "base_uri": "https://localhost:8080/"
        },
        "id": "bBwI2XGYwic9",
        "outputId": "2e21f945-2f31-433f-a1b5-3c6698fbf25e"
      },
      "execution_count": null,
      "outputs": [
        {
          "output_type": "stream",
          "name": "stdout",
          "text": [
            "Collecting fpdf\n",
            "  Downloading fpdf-1.7.2.tar.gz (39 kB)\n",
            "  Preparing metadata (setup.py) ... \u001b[?25l\u001b[?25hdone\n",
            "Building wheels for collected packages: fpdf\n",
            "  Building wheel for fpdf (setup.py) ... \u001b[?25l\u001b[?25hdone\n",
            "  Created wheel for fpdf: filename=fpdf-1.7.2-py2.py3-none-any.whl size=40704 sha256=bf2a9da6f818ed5b85b405e1aab04b4fb6fb2cfa8c541ac457d4bfa0d149299f\n",
            "  Stored in directory: /root/.cache/pip/wheels/65/4f/66/bbda9866da446a72e206d6484cd97381cbc7859a7068541c36\n",
            "Successfully built fpdf\n",
            "Installing collected packages: fpdf\n",
            "Successfully installed fpdf-1.7.2\n"
          ]
        }
      ]
    },
    {
      "cell_type": "code",
      "execution_count": null,
      "metadata": {
        "colab": {
          "base_uri": "https://localhost:8080/",
          "height": 36
        },
        "id": "9wLNjPtjwL6u",
        "outputId": "b3981632-976c-4158-a57c-44827603004e"
      },
      "outputs": [
        {
          "output_type": "execute_result",
          "data": {
            "text/plain": [
              "'OLAP_SQL_Report.pdf'"
            ],
            "application/vnd.google.colaboratory.intrinsic+json": {
              "type": "string"
            }
          },
          "metadata": {},
          "execution_count": 6
        }
      ],
      "source": [
        "from fpdf import FPDF\n",
        "import pandas as pd\n",
        "import matplotlib.pyplot as plt\n",
        "\n",
        "# Sample DataFrames from oracle live sql outputs\n",
        "departments = pd.DataFrame({\n",
        "    'dept_id': [1, 2, 3],\n",
        "    'dept_name': ['Sales', 'Marketing', 'HR'],\n",
        "    'location': ['New York', 'Los Angeles', 'Chicago']\n",
        "})\n",
        "\n",
        "employees = pd.DataFrame({\n",
        "    'emp_id': [101, 102, 103, 104],\n",
        "    'emp_name': ['Alice', 'Bob', 'Charlie', 'David'],\n",
        "    'dept_id': [1, 1, 2, 3],\n",
        "    'hire_date': ['2023-02-10', '2022-03-15', '2023-05-20', '2021-06-18'],\n",
        "    'salary': [60000, 55000, 58000, 52000]\n",
        "})\n",
        "\n",
        "sales = pd.DataFrame({\n",
        "    'sale_id': [1001, 1002, 1003],\n",
        "    'emp_id': [101, 102, 103],\n",
        "    'product_category': ['Electronics', 'Furniture', 'Electronics'],\n",
        "    'amount': [12000, 8000, 9000],\n",
        "    'location': ['New York', 'New York', 'Los Angeles'],\n",
        "    'sale_date': ['2023-07-12', '2022-09-25', '2023-08-10']\n",
        "})\n",
        "\n",
        "# PDF Report\n",
        "class PDFReport(FPDF):\n",
        "    def header(self):\n",
        "        self.set_font('Arial', 'B', 14)\n",
        "        self.cell(0, 10, 'OLAP SQL Report', border=False, ln=True, align='C')\n",
        "        self.ln(5)\n",
        "\n",
        "    def chapter_title(self, title):\n",
        "        self.set_font('Arial', 'B', 12)\n",
        "        self.set_fill_color(200, 220, 255)\n",
        "        self.cell(0, 10, title, ln=True, fill=True)\n",
        "        self.ln(2)\n",
        "\n",
        "    def table_from_df(self, df):\n",
        "        self.set_font('Arial', '', 10)\n",
        "        col_widths = [self.w / len(df.columns)] * len(df.columns)\n",
        "        for col in df.columns:\n",
        "            self.cell(col_widths[0], 8, str(col), border=1)\n",
        "        self.ln()\n",
        "        for _, row in df.iterrows():\n",
        "            for item in row:\n",
        "                self.cell(col_widths[0], 8, str(item), border=1)\n",
        "            self.ln()\n",
        "        self.ln(5)\n",
        "\n",
        "pdf = PDFReport()\n",
        "pdf.add_page()\n",
        "\n",
        "pdf.chapter_title(\"1. Departments Table\")\n",
        "pdf.table_from_df(departments)\n",
        "\n",
        "pdf.chapter_title(\"2. Employees Table\")\n",
        "pdf.table_from_df(employees)\n",
        "\n",
        "pdf.chapter_title(\"3. Sales Table\")\n",
        "pdf.table_from_df(sales)\n",
        "\n",
        "# Creating a chart for total salary by department\n",
        "merged = pd.merge(employees, departments, on='dept_id')\n",
        "salary_by_dept = merged.groupby('dept_name')['salary'].sum()\n",
        "plt.figure(figsize=(5,3))\n",
        "salary_by_dept.plot(kind='bar', color='skyblue', title='Total Salary by Department')\n",
        "plt.ylabel('Salary')\n",
        "plt.tight_layout()\n",
        "plt.savefig('salary_by_dept.png')\n",
        "plt.close()\n",
        "\n",
        "# Inserting chart into PDF\n",
        "pdf.add_page()\n",
        "pdf.chapter_title(\"Chart: Total Salary by Department\")\n",
        "pdf.image('salary_by_dept.png', x=10, y=None, w=180)\n",
        "\n",
        "# Saving PDF\n",
        "pdf_path = \"OLAP_SQL_Report.pdf\"\n",
        "pdf.output(pdf_path)\n",
        "pdf_path\n"
      ]
    }
  ]
}